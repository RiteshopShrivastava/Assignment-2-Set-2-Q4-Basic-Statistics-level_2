{
  "nbformat": 4,
  "nbformat_minor": 0,
  "metadata": {
    "colab": {
      "name": "Assignment-2-Set-2-Q4-Basic-Statistics-level_2.ipynb",
      "provenance": [],
      "collapsed_sections": [],
      "authorship_tag": "ABX9TyNVypJwVnV4DNA/EFFTmppo",
      "include_colab_link": true
    },
    "kernelspec": {
      "name": "python3",
      "display_name": "Python 3"
    },
    "language_info": {
      "name": "python"
    }
  },
  "cells": [
    {
      "cell_type": "markdown",
      "metadata": {
        "id": "view-in-github",
        "colab_type": "text"
      },
      "source": [
        "<a href=\"https://colab.research.google.com/github/RiteshopShrivastava/Assignment-2-Set-2-Q4-Basic-Statistics-level_2/blob/main/Assignment_2_Set_2_Q4_Basic_Statistics_level_2.ipynb\" target=\"_parent\"><img src=\"https://colab.research.google.com/assets/colab-badge.svg\" alt=\"Open In Colab\"/></a>"
      ]
    },
    {
      "cell_type": "markdown",
      "metadata": {
        "id": "94LgNwP22Hqg"
      },
      "source": [
        "Let X ~ N(100, 202). Find two values, a and b, symmetric about the mean, such that the probability of the random variable taking a value between them is 0.99. \n",
        "\n",
        "A.\t90.5, 105.9 \n",
        "\n",
        "B.\t80.2, 119.8 \n",
        "\n",
        "C.\t22, 78 \n",
        "\n",
        "D.\t48.5, 151.5 \n",
        "\n",
        "E.\t90.1, 109.9\n"
      ]
    },
    {
      "cell_type": "code",
      "metadata": {
        "colab": {
          "base_uri": "https://localhost:8080/"
        },
        "id": "9VpxkU9o2GCb",
        "outputId": "3621d999-48b4-40fc-bb01-abc4cafdee1d"
      },
      "source": [
        "import numpy as np\n",
        "from scipy import stats\n",
        "interval =stats.norm.interval(.99, 100, 20)\n",
        "np.round(interval, 1)"
      ],
      "execution_count": 10,
      "outputs": [
        {
          "output_type": "execute_result",
          "data": {
            "text/plain": [
              "array([ 48.5, 151.5])"
            ]
          },
          "metadata": {
            "tags": []
          },
          "execution_count": 10
        }
      ]
    },
    {
      "cell_type": "markdown",
      "metadata": {
        "id": "SkAbR9883baG"
      },
      "source": [
        "Inference : Option D is the correct answer."
      ]
    }
  ]
}